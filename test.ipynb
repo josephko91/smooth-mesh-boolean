{
 "cells": [
  {
   "cell_type": "code",
   "execution_count": 1,
   "metadata": {},
   "outputs": [],
   "source": [
    "import pyvista as pv\n",
    "import numpy as np\n",
    "from typing import Tuple, List\n",
    "import skimage\n",
    "import trimesh"
   ]
  },
  {
   "cell_type": "code",
   "execution_count": 2,
   "metadata": {},
   "outputs": [],
   "source": [
    "# read in two different meshes\n",
    "m1 = pv.read('/Users/josephko/research/smooth-mesh-boolean/data/box_1.obj')\n",
    "m2 = pv.read('/Users/josephko/research/smooth-mesh-boolean/data/sphere_1.obj')"
   ]
  },
  {
   "cell_type": "code",
   "execution_count": 3,
   "metadata": {},
   "outputs": [
    {
     "data": {
      "application/vnd.jupyter.widget-view+json": {
       "model_id": "1d8f52ea70f3436f855112b9591d72d1",
       "version_major": 2,
       "version_minor": 0
      },
      "text/plain": [
       "Widget(value='<iframe src=\"http://localhost:56831/index.html?ui=P_0x14f2b3770_0&reconnect=auto\" class=\"pyvista…"
      ]
     },
     "metadata": {},
     "output_type": "display_data"
    }
   ],
   "source": [
    "# plot two meshes on top of each other\n",
    "pl = pv.Plotter()\n",
    "pl.add_mesh(m1)\n",
    "pl.add_mesh(m2)\n",
    "pl.show()"
   ]
  },
  {
   "cell_type": "code",
   "execution_count": 4,
   "metadata": {},
   "outputs": [],
   "source": [
    "# _computeAABB function\n",
    "def _computeAABB(meshes:List[pv.core.pointset.PolyData])->Tuple[int]:\n",
    "    v = meshes[0].points\n",
    "    for m in meshes[1:]:\n",
    "        v = np.concatenate([v, m.points],axis=0)\n",
    "    minx = np.min(v[:,0])\n",
    "    maxx = np.max(v[:,0])\n",
    "    miny = np.min(v[:,1])\n",
    "    maxy = np.max(v[:,1])\n",
    "    minz = np.min(v[:,2])\n",
    "    maxz = np.max(v[:,2])\n",
    "    return (minx,maxx,miny,maxy,minz,maxz)\n",
    "\n",
    "aabb = _computeAABB([m1, m2])"
   ]
  },
  {
   "cell_type": "code",
   "execution_count": 5,
   "metadata": {},
   "outputs": [
    {
     "name": "stdout",
     "output_type": "stream",
     "text": [
      "(64,) (64,) (64,)\n"
     ]
    }
   ],
   "source": [
    "resolution = 64\n",
    "pad = 0.0\n",
    "ox = pad * (aabb[1]-aabb[0])/resolution\n",
    "oy = pad * (aabb[3]-aabb[2])/resolution\n",
    "oz = pad * (aabb[5]-aabb[4])/resolution\n",
    "x = np.linspace(aabb[0]-ox,aabb[1]+ox,resolution)\n",
    "y = np.linspace(aabb[2]-oy,aabb[3]+oy,resolution)\n",
    "z = np.linspace(aabb[4]-oz,aabb[5]+oz,resolution)\n",
    "points = np.zeros((resolution**3,3))\n",
    "for i in range(resolution):\n",
    "    for j in range(resolution):\n",
    "        for k in range(resolution):\n",
    "            points[i*resolution**2 + j*resolution + k] = np.asarray([x[i],y[j],z[k]])\n",
    "print(x.shape, y.shape, z.shape)"
   ]
  },
  {
   "cell_type": "code",
   "execution_count": 6,
   "metadata": {},
   "outputs": [
    {
     "data": {
      "text/plain": [
       "(262144, 3)"
      ]
     },
     "execution_count": 6,
     "metadata": {},
     "output_type": "execute_result"
    }
   ],
   "source": [
    "points.shape"
   ]
  },
  {
   "cell_type": "code",
   "execution_count": 7,
   "metadata": {},
   "outputs": [],
   "source": [
    "def _makeSDFGrid(m:pv.core.pointset.PolyData,resolution:int,aabb:Tuple[int],pad:float=0.0)->np.ndarray:\n",
    "    ox = pad * (aabb[1]-aabb[0])/resolution\n",
    "    oy = pad * (aabb[3]-aabb[2])/resolution\n",
    "    oz = pad * (aabb[5]-aabb[4])/resolution\n",
    "    x = np.linspace(aabb[0]-ox,aabb[1]+ox,resolution)\n",
    "    y = np.linspace(aabb[2]-oy,aabb[3]+oy,resolution)\n",
    "    z = np.linspace(aabb[4]-oz,aabb[5]+oz,resolution)\n",
    "    points = np.zeros((resolution**3,3))\n",
    "    for i in range(resolution):\n",
    "        for j in range(resolution):\n",
    "            for k in range(resolution):\n",
    "                points[i*resolution**2 + j*resolution + k] = np.asarray([x[i],y[j],z[k]])\n",
    "    points_vtk = pv.PolyData(points)\n",
    "    # sdf,_,_,_ = pymesh.signed_distance_to_mesh(m,points)\n",
    "    sdf_vtk = points_vtk.compute_implicit_distance(m)\n",
    "    sdf_np = np.array(sdf_vtk['implicit_distance'])\n",
    "    sdf = np.reshape(sdf_np,(resolution,resolution,resolution))\n",
    "    return sdf,points"
   ]
  },
  {
   "cell_type": "code",
   "execution_count": 8,
   "metadata": {},
   "outputs": [],
   "source": [
    "# test function: _makeSDFGrid\n",
    "resolution = 64\n",
    "pad = 1.0\n",
    "sdf1,_ = _makeSDFGrid(m1, resolution, aabb, pad=pad)\n",
    "sdf2,_ = _makeSDFGrid(m2, resolution, aabb, pad=pad)"
   ]
  },
  {
   "cell_type": "code",
   "execution_count": 9,
   "metadata": {},
   "outputs": [],
   "source": [
    "sdf = np.minimum(sdf1,sdf2)\n",
    "ox = pad * (aabb[1]-aabb[0])/resolution\n",
    "oy = pad * (aabb[3]-aabb[2])/resolution\n",
    "oz = pad * (aabb[5]-aabb[4])/resolution\n",
    "spacing = (\n",
    "    (aabb[1]-aabb[0]+2*ox)/resolution,\n",
    "    (aabb[3]-aabb[2]+2*oy)/resolution,\n",
    "    (aabb[5]-aabb[4]+2*oz)/resolution\n",
    ")\n",
    "verts,faces,_,_ = skimage.measure.marching_cubes(sdf,level=0.,spacing=spacing)"
   ]
  },
  {
   "cell_type": "code",
   "execution_count": 10,
   "metadata": {},
   "outputs": [],
   "source": [
    "# save verts and faces\n",
    "np.save('data/verts', verts)\n",
    "np.save('data/faces', faces)"
   ]
  },
  {
   "cell_type": "code",
   "execution_count": 11,
   "metadata": {},
   "outputs": [
    {
     "ename": "CellSizeError",
     "evalue": "`faces` cell array size is invalid.",
     "output_type": "error",
     "traceback": [
      "\u001b[0;31m---------------------------------------------------------------------------\u001b[0m",
      "\u001b[0;31mCellSizeError\u001b[0m                             Traceback (most recent call last)",
      "File \u001b[0;32m~/miniconda3/envs/smooth-bool/lib/python3.13/site-packages/pyvista/core/pointset.py:828\u001b[0m, in \u001b[0;36mPolyData.__init__\u001b[0;34m(self, var_inp, faces, n_faces, lines, n_lines, strips, n_strips, deep, force_ext, force_float, verts, n_verts)\u001b[0m\n\u001b[1;32m    827\u001b[0m \u001b[38;5;28;01mtry\u001b[39;00m:\n\u001b[0;32m--> 828\u001b[0m     v \u001b[38;5;241m=\u001b[39m \u001b[43mCellArray\u001b[49m\u001b[43m(\u001b[49m\u001b[43mv\u001b[49m\u001b[43m)\u001b[49m\n\u001b[1;32m    829\u001b[0m \u001b[38;5;28;01mexcept\u001b[39;00m CellSizeError \u001b[38;5;28;01mas\u001b[39;00m err:\n\u001b[1;32m    830\u001b[0m     \u001b[38;5;66;03m# Raise an additional error so user knows which property triggered the error\u001b[39;00m\n",
      "File \u001b[0;32m~/miniconda3/envs/smooth-bool/lib/python3.13/site-packages/pyvista/core/cell.py:641\u001b[0m, in \u001b[0;36mCellArray.__init__\u001b[0;34m(self, cells, n_cells, deep)\u001b[0m\n\u001b[1;32m    640\u001b[0m \u001b[38;5;28;01mif\u001b[39;00m cells \u001b[38;5;129;01mis\u001b[39;00m \u001b[38;5;129;01mnot\u001b[39;00m \u001b[38;5;28;01mNone\u001b[39;00m:\n\u001b[0;32m--> 641\u001b[0m     \u001b[38;5;28;43mself\u001b[39;49m\u001b[38;5;241;43m.\u001b[39;49m\u001b[43mcells\u001b[49m \u001b[38;5;241m=\u001b[39m cells  \u001b[38;5;66;03m# type: ignore[assignment]\u001b[39;00m\n\u001b[1;32m    643\u001b[0m \u001b[38;5;66;03m# deprecated 0.44.0, convert to error in 0.47.0, remove 0.48.0\u001b[39;00m\n",
      "File \u001b[0;32m~/miniconda3/envs/smooth-bool/lib/python3.13/site-packages/pyvista/core/cell.py:673\u001b[0m, in \u001b[0;36mCellArray.cells\u001b[0;34m(self, cells)\u001b[0m\n\u001b[1;32m    672\u001b[0m \u001b[38;5;28;01mif\u001b[39;00m imported_size \u001b[38;5;241m!=\u001b[39m cells\u001b[38;5;241m.\u001b[39msize:\n\u001b[0;32m--> 673\u001b[0m     \u001b[38;5;28;01mraise\u001b[39;00m CellSizeError(\n\u001b[1;32m    674\u001b[0m         message\u001b[38;5;241m=\u001b[39m(\n\u001b[1;32m    675\u001b[0m             \u001b[38;5;124mf\u001b[39m\u001b[38;5;124m\"\u001b[39m\u001b[38;5;124mCell array size is invalid. Size (\u001b[39m\u001b[38;5;132;01m{\u001b[39;00mcells\u001b[38;5;241m.\u001b[39msize\u001b[38;5;132;01m}\u001b[39;00m\u001b[38;5;124m) does not\u001b[39m\u001b[38;5;124m\"\u001b[39m\n\u001b[1;32m    676\u001b[0m             \u001b[38;5;124mf\u001b[39m\u001b[38;5;124m\"\u001b[39m\u001b[38;5;124m match expected size (\u001b[39m\u001b[38;5;132;01m{\u001b[39;00mimported_size\u001b[38;5;132;01m}\u001b[39;00m\u001b[38;5;124m). This is likely\u001b[39m\u001b[38;5;124m\"\u001b[39m\n\u001b[1;32m    677\u001b[0m             \u001b[38;5;124m\"\u001b[39m\u001b[38;5;124m due to invalid connectivity array.\u001b[39m\u001b[38;5;124m\"\u001b[39m\n\u001b[1;32m    678\u001b[0m         ),\n\u001b[1;32m    679\u001b[0m     )\n\u001b[1;32m    680\u001b[0m \u001b[38;5;28mself\u001b[39m\u001b[38;5;241m.\u001b[39m__offsets \u001b[38;5;241m=\u001b[39m \u001b[38;5;28mself\u001b[39m\u001b[38;5;241m.\u001b[39m__connectivity \u001b[38;5;241m=\u001b[39m \u001b[38;5;28;01mNone\u001b[39;00m\n",
      "\u001b[0;31mCellSizeError\u001b[0m: Cell array size is invalid. Size (115188) does not match expected size (118911). This is likely due to invalid connectivity array.",
      "\nThe above exception was the direct cause of the following exception:\n",
      "\u001b[0;31mCellSizeError\u001b[0m                             Traceback (most recent call last)",
      "Cell \u001b[0;32mIn[11], line 2\u001b[0m\n\u001b[1;32m      1\u001b[0m \u001b[38;5;66;03m# Create a mesh with the given vertices and faces\u001b[39;00m\n\u001b[0;32m----> 2\u001b[0m mesh \u001b[38;5;241m=\u001b[39m \u001b[43mpv\u001b[49m\u001b[38;5;241;43m.\u001b[39;49m\u001b[43mPolyData\u001b[49m\u001b[43m(\u001b[49m\u001b[43mverts\u001b[49m\u001b[43m,\u001b[49m\u001b[43m \u001b[49m\u001b[43mfaces\u001b[49m\u001b[43m)\u001b[49m\n\u001b[1;32m      3\u001b[0m mesh\u001b[38;5;241m.\u001b[39mplot()\n",
      "File \u001b[0;32m~/miniconda3/envs/smooth-bool/lib/python3.13/site-packages/pyvista/core/pointset.py:831\u001b[0m, in \u001b[0;36mPolyData.__init__\u001b[0;34m(self, var_inp, faces, n_faces, lines, n_lines, strips, n_strips, deep, force_ext, force_float, verts, n_verts)\u001b[0m\n\u001b[1;32m    828\u001b[0m             v \u001b[38;5;241m=\u001b[39m CellArray(v)\n\u001b[1;32m    829\u001b[0m         \u001b[38;5;28;01mexcept\u001b[39;00m CellSizeError \u001b[38;5;28;01mas\u001b[39;00m err:\n\u001b[1;32m    830\u001b[0m             \u001b[38;5;66;03m# Raise an additional error so user knows which property triggered the error\u001b[39;00m\n\u001b[0;32m--> 831\u001b[0m             \u001b[38;5;28;01mraise\u001b[39;00m CellSizeError(\u001b[38;5;124mf\u001b[39m\u001b[38;5;124m\"\u001b[39m\u001b[38;5;124m`\u001b[39m\u001b[38;5;132;01m{\u001b[39;00mk\u001b[38;5;132;01m}\u001b[39;00m\u001b[38;5;124m` cell array size is invalid.\u001b[39m\u001b[38;5;124m\"\u001b[39m) \u001b[38;5;28;01mfrom\u001b[39;00m\u001b[38;5;250m \u001b[39m\u001b[38;5;21;01merr\u001b[39;00m\n\u001b[1;32m    833\u001b[0m     \u001b[38;5;28msetattr\u001b[39m(\u001b[38;5;28mself\u001b[39m, k, v)\n\u001b[1;32m    835\u001b[0m \u001b[38;5;66;03m# deprecated 0.44.0, convert to error in 0.47.0, remove 0.48.0\u001b[39;00m\n",
      "\u001b[0;31mCellSizeError\u001b[0m: `faces` cell array size is invalid."
     ]
    }
   ],
   "source": [
    "# Create a mesh with the given vertices and faces (using trimesh)\n",
    "mesh = trimesh.Trimesh(vertices=verts, faces=faces)\n",
    "# save as obj\n",
    "filepath = '/Users/josephko/research/smooth-mesh-boolean/data/trimesh.obj'\n",
    "with open(filepath, 'w', encoding='utf-8') as f:\n",
    "    mesh.export(f, file_type='obj')\n",
    "# Note: errro creating mesh with pyvista polydata\n",
    "# mesh = pv.PolyData(verts, faces)\n",
    "# mesh.plot()"
   ]
  },
  {
   "cell_type": "code",
   "execution_count": null,
   "metadata": {},
   "outputs": [],
   "source": []
  }
 ],
 "metadata": {
  "kernelspec": {
   "display_name": "smooth-bool",
   "language": "python",
   "name": "python3"
  },
  "language_info": {
   "codemirror_mode": {
    "name": "ipython",
    "version": 3
   },
   "file_extension": ".py",
   "mimetype": "text/x-python",
   "name": "python",
   "nbconvert_exporter": "python",
   "pygments_lexer": "ipython3",
   "version": "3.13.1"
  }
 },
 "nbformat": 4,
 "nbformat_minor": 2
}
